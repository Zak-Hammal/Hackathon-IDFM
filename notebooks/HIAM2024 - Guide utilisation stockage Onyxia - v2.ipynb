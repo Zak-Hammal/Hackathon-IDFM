{
 "cells": [
  {
   "cell_type": "markdown",
   "id": "50b679a1",
   "metadata": {},
   "source": [
    "# Guide utilisation du stockage Onyxia hackathon IA & Mobilités 2024"
   ]
  },
  {
   "cell_type": "markdown",
   "id": "aa7e776f",
   "metadata": {},
   "source": [
    "**<!> Ce guide est destiné aux participants du hackathon et est valable pour les services instanciés dans le groupe \"dlb-hackathon\" <!>**\n",
    "\n",
    "**<!> Les paramètres de connexion au stockage sont éphémères, la logique est de supprimer les services en fin de journée, __après sauvegarde de vos fichiers de travail__ <!>**"
   ]
  },
  {
   "cell_type": "markdown",
   "id": "aa6d7fc0",
   "metadata": {},
   "source": [
    "## Installation du client Minio S3 (stockage distribué)"
   ]
  },
  {
   "cell_type": "code",
   "execution_count": 1,
   "id": "0dc1c854",
   "metadata": {},
   "outputs": [
    {
     "name": "stdout",
     "output_type": "stream",
     "text": [
      "Requirement already satisfied: s3fs in /opt/conda/lib/python3.12/site-packages (2024.10.0)\n",
      "Requirement already satisfied: aiobotocore<3.0.0,>=2.5.4 in /opt/conda/lib/python3.12/site-packages (from s3fs) (2.15.2)\n",
      "Requirement already satisfied: fsspec==2024.10.0.* in /opt/conda/lib/python3.12/site-packages (from s3fs) (2024.10.0)\n",
      "Requirement already satisfied: aiohttp!=4.0.0a0,!=4.0.0a1 in /opt/conda/lib/python3.12/site-packages (from s3fs) (3.10.10)\n",
      "Requirement already satisfied: botocore<1.35.37,>=1.35.16 in /opt/conda/lib/python3.12/site-packages (from aiobotocore<3.0.0,>=2.5.4->s3fs) (1.35.36)\n",
      "Requirement already satisfied: wrapt<2.0.0,>=1.10.10 in /opt/conda/lib/python3.12/site-packages (from aiobotocore<3.0.0,>=2.5.4->s3fs) (1.16.0)\n",
      "Requirement already satisfied: aioitertools<1.0.0,>=0.5.1 in /opt/conda/lib/python3.12/site-packages (from aiobotocore<3.0.0,>=2.5.4->s3fs) (0.12.0)\n",
      "Requirement already satisfied: aiohappyeyeballs>=2.3.0 in /opt/conda/lib/python3.12/site-packages (from aiohttp!=4.0.0a0,!=4.0.0a1->s3fs) (2.4.3)\n",
      "Requirement already satisfied: aiosignal>=1.1.2 in /opt/conda/lib/python3.12/site-packages (from aiohttp!=4.0.0a0,!=4.0.0a1->s3fs) (1.3.1)\n",
      "Requirement already satisfied: attrs>=17.3.0 in /opt/conda/lib/python3.12/site-packages (from aiohttp!=4.0.0a0,!=4.0.0a1->s3fs) (24.2.0)\n",
      "Requirement already satisfied: frozenlist>=1.1.1 in /opt/conda/lib/python3.12/site-packages (from aiohttp!=4.0.0a0,!=4.0.0a1->s3fs) (1.5.0)\n",
      "Requirement already satisfied: multidict<7.0,>=4.5 in /opt/conda/lib/python3.12/site-packages (from aiohttp!=4.0.0a0,!=4.0.0a1->s3fs) (6.1.0)\n",
      "Requirement already satisfied: yarl<2.0,>=1.12.0 in /opt/conda/lib/python3.12/site-packages (from aiohttp!=4.0.0a0,!=4.0.0a1->s3fs) (1.16.0)\n",
      "Requirement already satisfied: jmespath<2.0.0,>=0.7.1 in /opt/conda/lib/python3.12/site-packages (from botocore<1.35.37,>=1.35.16->aiobotocore<3.0.0,>=2.5.4->s3fs) (1.0.1)\n",
      "Requirement already satisfied: python-dateutil<3.0.0,>=2.1 in /opt/conda/lib/python3.12/site-packages (from botocore<1.35.37,>=1.35.16->aiobotocore<3.0.0,>=2.5.4->s3fs) (2.9.0)\n",
      "Requirement already satisfied: urllib3!=2.2.0,<3,>=1.25.4 in /opt/conda/lib/python3.12/site-packages (from botocore<1.35.37,>=1.35.16->aiobotocore<3.0.0,>=2.5.4->s3fs) (2.2.3)\n",
      "Requirement already satisfied: idna>=2.0 in /opt/conda/lib/python3.12/site-packages (from yarl<2.0,>=1.12.0->aiohttp!=4.0.0a0,!=4.0.0a1->s3fs) (3.10)\n",
      "Requirement already satisfied: propcache>=0.2.0 in /opt/conda/lib/python3.12/site-packages (from yarl<2.0,>=1.12.0->aiohttp!=4.0.0a0,!=4.0.0a1->s3fs) (0.2.0)\n",
      "Requirement already satisfied: six>=1.5 in /opt/conda/lib/python3.12/site-packages (from python-dateutil<3.0.0,>=2.1->botocore<1.35.37,>=1.35.16->aiobotocore<3.0.0,>=2.5.4->s3fs) (1.16.0)\n"
     ]
    }
   ],
   "source": [
    "!pip install s3fs"
   ]
  },
  {
   "cell_type": "markdown",
   "id": "2450dd66",
   "metadata": {},
   "source": [
    "## Listing des fichiers avec le client S3"
   ]
  },
  {
   "cell_type": "code",
   "execution_count": 2,
   "id": "f4d2eda0-8494-4106-818a-4302b753e7f0",
   "metadata": {},
   "outputs": [],
   "source": [
    "import os\n",
    "import s3fs\n",
    "\n",
    "# Create filesystem object\n",
    "S3_ENDPOINT_URL = \"https://\" + os.environ[\"AWS_S3_ENDPOINT\"]\n",
    "fs = s3fs.S3FileSystem(client_kwargs={'endpoint_url': S3_ENDPOINT_URL})"
   ]
  },
  {
   "cell_type": "code",
   "execution_count": 8,
   "id": "39eaca7f",
   "metadata": {},
   "outputs": [
    {
     "data": {
      "text/plain": [
       "{'AWS_DEFAULT_REGION': 'fr-central',\n",
       " 'AWS_SESSION_TOKEN': 'XXXXXXX.XXXXXXXXX.XXXXXX-XXXXX',\n",
       " 'AWS_S3_ENDPOINT': 'minio.data-platform-self-service.net',\n",
       " 'AWS_ACCESS_KEY_ID': 'xxx',\n",
       " 'AWS_SECRET_ACCESS_KEY': 'xxx+xxxxx++xxxx'}"
      ]
     },
     "execution_count": 8,
     "metadata": {},
     "output_type": "execute_result"
    }
   ],
   "source": [
    "{key: os.environ[key] for key in os.environ if \"AWS\" in key}"
   ]
  },
  {
   "cell_type": "code",
   "execution_count": null,
   "id": "e7190091-8261-4b23-b6ec-20afc66c1d5c",
   "metadata": {},
   "outputs": [
    {
     "data": {
      "text/plain": [
       "['dlb-hackathon/datasets-diffusion/reclamations_formulaire_web/.keep',\n",
       " 'dlb-hackathon/datasets-diffusion/reclamations_formulaire_web/idfm_reclamations_formulaire_web.parquet']"
      ]
     },
     "execution_count": 9,
     "metadata": {},
     "output_type": "execute_result"
    }
   ],
   "source": [
    "fs.ls(\"dlb-hackathon/datasets-diffusion/reclamations_formulaire_web\", refresh=True)"
   ]
  },
  {
   "cell_type": "markdown",
   "id": "6147f4af",
   "metadata": {},
   "source": [
    "## Dépôt de fichier sur un répertoire d'équipe avec la ligne de commande"
   ]
  },
  {
   "cell_type": "code",
   "execution_count": 51,
   "id": "ca75e120",
   "metadata": {},
   "outputs": [
    {
     "name": "stdout",
     "output_type": "stream",
     "text": [
      "...re.parquet: 240.75 KiB / 240.75 KiB ┃▓▓▓▓▓▓▓▓▓▓▓▓▓▓▓▓▓▓▓▓▓▓▓▓▓┃ 4.61 MiB/s 0s\u001b[0;22m\u001b[0m\u001b[m\u001b[32;1m"
     ]
    }
   ],
   "source": [
    "# On peut uploader par une commande terminal\n",
    "!mc cp ./export_overture.parquet s3/dlb-hackathon/equipe-0/export_overture.parquet"
   ]
  },
  {
   "cell_type": "markdown",
   "id": "4924bd67",
   "metadata": {},
   "source": [
    "## Requêtage de données avec Duckdb"
   ]
  },
  {
   "cell_type": "markdown",
   "id": "2b3923cd",
   "metadata": {},
   "source": [
    "### Paramétrage de duckdb depuis les variables d'environnement"
   ]
  },
  {
   "cell_type": "code",
   "execution_count": 11,
   "id": "ca2efd60",
   "metadata": {},
   "outputs": [
    {
     "name": "stdout",
     "output_type": "stream",
     "text": [
      "Requirement already satisfied: duckdb in /opt/conda/lib/python3.12/site-packages (1.1.3)\n",
      "Note: you may need to restart the kernel to use updated packages.\n"
     ]
    }
   ],
   "source": [
    "%pip install duckdb"
   ]
  },
  {
   "cell_type": "code",
   "execution_count": 14,
   "id": "c0ba405b",
   "metadata": {},
   "outputs": [
    {
     "data": {
      "text/plain": [
       "<duckdb.duckdb.DuckDBPyConnection at 0x7fe53b39ffb0>"
      ]
     },
     "execution_count": 14,
     "metadata": {},
     "output_type": "execute_result"
    }
   ],
   "source": [
    "# Paramétrage pour un appel Duckdb\n",
    "import duckdb as ddb\n",
    "ddb.execute(\"SET s3_region='fr-central';\")\n",
    "ddb.execute(\"SET s3_url_style='path';\")\n",
    "ddb.execute(\"SET s3_endpoint='minio.data-platform-self-service.net';\")\n",
    "ddb.execute(f\"SET s3_access_key_id='{os.environ[\"AWS_ACCESS_KEY_ID\"]}' ;\") # Aussi récupérable dans les paramètres \"Valeurs de Helm\" du service\n",
    "ddb.execute(f\"SET s3_secret_access_key='{os.environ[\"AWS_SECRET_ACCESS_KEY\"]}';\") # Aussi récupérable dans les paramètres \"Valeurs de Helm\" du service"
   ]
  },
  {
   "cell_type": "markdown",
   "id": "a17898e5",
   "metadata": {},
   "source": [
    "### Requêtage d'un fichier parquet"
   ]
  },
  {
   "cell_type": "code",
   "execution_count": 16,
   "id": "c9557f0a",
   "metadata": {},
   "outputs": [
    {
     "data": {
      "text/html": [
       "<div>\n",
       "<style scoped>\n",
       "    .dataframe tbody tr th:only-of-type {\n",
       "        vertical-align: middle;\n",
       "    }\n",
       "\n",
       "    .dataframe tbody tr th {\n",
       "        vertical-align: top;\n",
       "    }\n",
       "\n",
       "    .dataframe thead th {\n",
       "        text-align: right;\n",
       "    }\n",
       "</style>\n",
       "<table border=\"1\" class=\"dataframe\">\n",
       "  <thead>\n",
       "    <tr style=\"text-align: right;\">\n",
       "      <th></th>\n",
       "      <th>id</th>\n",
       "      <th>date_demande</th>\n",
       "      <th>canal_demande</th>\n",
       "      <th>texte_anonymise</th>\n",
       "      <th>classification_services_idfm</th>\n",
       "    </tr>\n",
       "  </thead>\n",
       "  <tbody>\n",
       "    <tr>\n",
       "      <th>11803</th>\n",
       "      <td>46342</td>\n",
       "      <td>2024-07-08 12:28:00</td>\n",
       "      <td>Formulaire Web</td>\n",
       "      <td>Bonjour,j'ai pris des tickets tarif réduit pou...</td>\n",
       "      <td>Tarification Abonnement &gt; Support Canal Mobile...</td>\n",
       "    </tr>\n",
       "    <tr>\n",
       "      <th>10358</th>\n",
       "      <td>27879</td>\n",
       "      <td>2023-03-18 15:47:00</td>\n",
       "      <td>Formulaire Web</td>\n",
       "      <td>Bonjour. \\n J'espère que vous allez très bien....</td>\n",
       "      <td>Tarification Abonnement &gt; Campagnes de dédomma...</td>\n",
       "    </tr>\n",
       "    <tr>\n",
       "      <th>3798</th>\n",
       "      <td>36955</td>\n",
       "      <td>2023-10-09 09:26:00</td>\n",
       "      <td>Formulaire Web</td>\n",
       "      <td>Bonjour , j'ai acheté une carte en juin dernie...</td>\n",
       "      <td>Tarification Abonnement &gt; Support Autre &gt; Pass...</td>\n",
       "    </tr>\n",
       "    <tr>\n",
       "      <th>9126</th>\n",
       "      <td>43086</td>\n",
       "      <td>2024-03-29 18:12:00</td>\n",
       "      <td>Formulaire Web</td>\n",
       "      <td>Bonjour, je reçois les attestations de paiemen...</td>\n",
       "      <td>Tarification Abonnement &gt; Support Autre &gt; Pass...</td>\n",
       "    </tr>\n",
       "    <tr>\n",
       "      <th>17568</th>\n",
       "      <td>27259</td>\n",
       "      <td>2023-03-13 11:25:00</td>\n",
       "      <td>Formulaire Web</td>\n",
       "      <td>Bonjour, \\n  \\n J'ai fait une demande de navig...</td>\n",
       "      <td>Tarification Abonnement &gt; Liberte + &gt; Données ...</td>\n",
       "    </tr>\n",
       "  </tbody>\n",
       "</table>\n",
       "</div>"
      ],
      "text/plain": [
       "          id        date_demande   canal_demande  \\\n",
       "11803  46342 2024-07-08 12:28:00  Formulaire Web   \n",
       "10358  27879 2023-03-18 15:47:00  Formulaire Web   \n",
       "3798   36955 2023-10-09 09:26:00  Formulaire Web   \n",
       "9126   43086 2024-03-29 18:12:00  Formulaire Web   \n",
       "17568  27259 2023-03-13 11:25:00  Formulaire Web   \n",
       "\n",
       "                                         texte_anonymise  \\\n",
       "11803  Bonjour,j'ai pris des tickets tarif réduit pou...   \n",
       "10358  Bonjour. \\n J'espère que vous allez très bien....   \n",
       "3798   Bonjour , j'ai acheté une carte en juin dernie...   \n",
       "9126   Bonjour, je reçois les attestations de paiemen...   \n",
       "17568  Bonjour, \\n  \\n J'ai fait une demande de navig...   \n",
       "\n",
       "                            classification_services_idfm  \n",
       "11803  Tarification Abonnement > Support Canal Mobile...  \n",
       "10358  Tarification Abonnement > Campagnes de dédomma...  \n",
       "3798   Tarification Abonnement > Support Autre > Pass...  \n",
       "9126   Tarification Abonnement > Support Autre > Pass...  \n",
       "17568  Tarification Abonnement > Liberte + > Données ...  "
      ]
     },
     "execution_count": 16,
     "metadata": {},
     "output_type": "execute_result"
    }
   ],
   "source": [
    "ddb.sql(\"\"\"\n",
    "select * from \"s3://dlb-hackathon/datasets-diffusion/reclamations_formulaire_web/idfm_reclamations_formulaire_web.parquet\" \n",
    "\"\"\").to_df().sample(5)"
   ]
  },
  {
   "cell_type": "markdown",
   "id": "2b6696e3",
   "metadata": {},
   "source": [
    "## Manipulation des données avec Pandas"
   ]
  },
  {
   "cell_type": "code",
   "execution_count": 17,
   "id": "1c65db6b",
   "metadata": {},
   "outputs": [
    {
     "name": "stdout",
     "output_type": "stream",
     "text": [
      "Requirement already satisfied: pandas in /opt/conda/lib/python3.12/site-packages (2.2.3)\n",
      "Requirement already satisfied: numpy>=1.26.0 in /opt/conda/lib/python3.12/site-packages (from pandas) (2.1.3)\n",
      "Requirement already satisfied: python-dateutil>=2.8.2 in /opt/conda/lib/python3.12/site-packages (from pandas) (2.9.0)\n",
      "Requirement already satisfied: pytz>=2020.1 in /opt/conda/lib/python3.12/site-packages (from pandas) (2024.1)\n",
      "Requirement already satisfied: tzdata>=2022.7 in /opt/conda/lib/python3.12/site-packages (from pandas) (2024.2)\n",
      "Requirement already satisfied: six>=1.5 in /opt/conda/lib/python3.12/site-packages (from python-dateutil>=2.8.2->pandas) (1.16.0)\n"
     ]
    }
   ],
   "source": [
    "!pip install pandas"
   ]
  },
  {
   "cell_type": "markdown",
   "id": "017258be",
   "metadata": {},
   "source": [
    "### Lecture d'un fichier"
   ]
  },
  {
   "cell_type": "code",
   "execution_count": 18,
   "id": "3f685dab-b4d1-4343-941e-d8b329bc772d",
   "metadata": {},
   "outputs": [
    {
     "name": "stderr",
     "output_type": "stream",
     "text": [
      "/tmp/ipykernel_4015/2968963640.py:8: DtypeWarning: Columns (3) have mixed types. Specify dtype option on import or set low_memory=False.\n",
      "  df = pd.read_csv(file_in)\n"
     ]
    }
   ],
   "source": [
    "import pandas as pd\n",
    "\n",
    "BUCKET = \"dlb-hackathon\"\n",
    "FILE_KEY_S3 = \"datasets-diffusion/ascenseurs_historique_etat/RELEVES_ETATS_ASCENSEURS_SNCF_RATP_2021-2024.csv\"\n",
    "FILE_PATH_S3 = BUCKET + \"/\" + FILE_KEY_S3\n",
    "\n",
    "with fs.open(FILE_PATH_S3, mode=\"rb\") as file_in:\n",
    "    df = pd.read_csv(file_in)"
   ]
  },
  {
   "cell_type": "code",
   "execution_count": 19,
   "id": "1368f037-90f7-494d-940c-c280a45698ee",
   "metadata": {},
   "outputs": [
    {
     "data": {
      "text/html": [
       "<div>\n",
       "<style scoped>\n",
       "    .dataframe tbody tr th:only-of-type {\n",
       "        vertical-align: middle;\n",
       "    }\n",
       "\n",
       "    .dataframe tbody tr th {\n",
       "        vertical-align: top;\n",
       "    }\n",
       "\n",
       "    .dataframe thead th {\n",
       "        text-align: right;\n",
       "    }\n",
       "</style>\n",
       "<table border=\"1\" class=\"dataframe\">\n",
       "  <thead>\n",
       "    <tr style=\"text-align: right;\">\n",
       "      <th></th>\n",
       "      <th>operateur</th>\n",
       "      <th>date_releve</th>\n",
       "      <th>code_appareil</th>\n",
       "      <th>code_fonctionnel</th>\n",
       "      <th>etat</th>\n",
       "      <th>date_etat_debut</th>\n",
       "      <th>date_etat_fin</th>\n",
       "      <th>emplacement_gare</th>\n",
       "      <th>emplacement_situation</th>\n",
       "      <th>emplacement_direction</th>\n",
       "    </tr>\n",
       "  </thead>\n",
       "  <tbody>\n",
       "    <tr>\n",
       "      <th>0</th>\n",
       "      <td>RATP</td>\n",
       "      <td>2021-01-01 08:07:57</td>\n",
       "      <td>1004.0</td>\n",
       "      <td>ASC01-EQ11-A005-000000269</td>\n",
       "      <td>2.0</td>\n",
       "      <td>01/01/2021</td>\n",
       "      <td>NaN</td>\n",
       "      <td>SAINT OUEN</td>\n",
       "      <td>SA200</td>\n",
       "      <td>NaN</td>\n",
       "    </tr>\n",
       "    <tr>\n",
       "      <th>1</th>\n",
       "      <td>RATP</td>\n",
       "      <td>2021-01-01 08:07:57</td>\n",
       "      <td>1005.0</td>\n",
       "      <td>ASC02-EQ11-A005-000000270</td>\n",
       "      <td>2.0</td>\n",
       "      <td>01/01/2021</td>\n",
       "      <td>02/01/2021</td>\n",
       "      <td>SAINT OUEN</td>\n",
       "      <td>SA200</td>\n",
       "      <td>NaN</td>\n",
       "    </tr>\n",
       "    <tr>\n",
       "      <th>2</th>\n",
       "      <td>RATP</td>\n",
       "      <td>2021-01-01 08:07:57</td>\n",
       "      <td>1006.0</td>\n",
       "      <td>ASC03-EQ11-A005-000000271</td>\n",
       "      <td>2.0</td>\n",
       "      <td>01/01/2021</td>\n",
       "      <td>NaN</td>\n",
       "      <td>SAINT OUEN</td>\n",
       "      <td>SA200</td>\n",
       "      <td>NaN</td>\n",
       "    </tr>\n",
       "    <tr>\n",
       "      <th>3</th>\n",
       "      <td>RATP</td>\n",
       "      <td>2021-01-01 08:07:57</td>\n",
       "      <td>1007.0</td>\n",
       "      <td>ASC04-EQ11-A005-000000272</td>\n",
       "      <td>2.0</td>\n",
       "      <td>01/01/2021</td>\n",
       "      <td>NaN</td>\n",
       "      <td>SAINT OUEN</td>\n",
       "      <td>SA200</td>\n",
       "      <td>NaN</td>\n",
       "    </tr>\n",
       "    <tr>\n",
       "      <th>4</th>\n",
       "      <td>RATP</td>\n",
       "      <td>2021-01-01 08:07:57</td>\n",
       "      <td>1008.0</td>\n",
       "      <td>ASC05-EQ11-A005-000000273</td>\n",
       "      <td>2.0</td>\n",
       "      <td>01/01/2021</td>\n",
       "      <td>02/01/2021</td>\n",
       "      <td>SAINT OUEN</td>\n",
       "      <td>SA200</td>\n",
       "      <td>NaN</td>\n",
       "    </tr>\n",
       "  </tbody>\n",
       "</table>\n",
       "</div>"
      ],
      "text/plain": [
       "  operateur          date_releve  code_appareil           code_fonctionnel  \\\n",
       "0      RATP  2021-01-01 08:07:57         1004.0  ASC01-EQ11-A005-000000269   \n",
       "1      RATP  2021-01-01 08:07:57         1005.0  ASC02-EQ11-A005-000000270   \n",
       "2      RATP  2021-01-01 08:07:57         1006.0  ASC03-EQ11-A005-000000271   \n",
       "3      RATP  2021-01-01 08:07:57         1007.0  ASC04-EQ11-A005-000000272   \n",
       "4      RATP  2021-01-01 08:07:57         1008.0  ASC05-EQ11-A005-000000273   \n",
       "\n",
       "   etat date_etat_debut date_etat_fin emplacement_gare emplacement_situation  \\\n",
       "0   2.0      01/01/2021           NaN       SAINT OUEN                 SA200   \n",
       "1   2.0      01/01/2021    02/01/2021       SAINT OUEN                 SA200   \n",
       "2   2.0      01/01/2021           NaN       SAINT OUEN                 SA200   \n",
       "3   2.0      01/01/2021           NaN       SAINT OUEN                 SA200   \n",
       "4   2.0      01/01/2021    02/01/2021       SAINT OUEN                 SA200   \n",
       "\n",
       "  emplacement_direction  \n",
       "0                   NaN  \n",
       "1                   NaN  \n",
       "2                   NaN  \n",
       "3                   NaN  \n",
       "4                   NaN  "
      ]
     },
     "execution_count": 19,
     "metadata": {},
     "output_type": "execute_result"
    }
   ],
   "source": [
    "df.head()"
   ]
  },
  {
   "cell_type": "markdown",
   "id": "fea6a9cd",
   "metadata": {},
   "source": [
    "### Ecriture d'un fichier"
   ]
  },
  {
   "cell_type": "code",
   "execution_count": 20,
   "id": "07a4f9cc",
   "metadata": {},
   "outputs": [],
   "source": [
    "BUCKET = \"dlb-hackathon\"\n",
    "FILE_KEY_S3 = \"datasets-diffusion/donnees_territoire_GPSEO/bornes_recharges/IRVE_CU.parquet\"\n",
    "FILE_PATH_S3 = BUCKET + \"/\" + FILE_KEY_S3\n",
    "\n",
    "with fs.open(FILE_PATH_S3, mode=\"rb\") as file_in:\n",
    "    df = pd.read_parquet(file_in)"
   ]
  },
  {
   "cell_type": "code",
   "execution_count": 21,
   "id": "c77e41ff",
   "metadata": {},
   "outputs": [],
   "source": [
    "# Ecrire\n",
    "BUCKET_OUT = \"dlb-hackathon\"\n",
    "FILE_KEY_OUT_S3 = \"equipe-0/donnees_bornes_recharges.csv\"\n",
    "FILE_PATH_OUT_S3 = BUCKET_OUT + \"/\" + FILE_KEY_OUT_S3\n",
    "\n",
    "with fs.open(FILE_PATH_OUT_S3, 'w') as file_out:\n",
    "    df.to_csv(file_out)"
   ]
  },
  {
   "cell_type": "code",
   "execution_count": 22,
   "id": "46f080d9-0c17-4552-964a-eae541058618",
   "metadata": {},
   "outputs": [
    {
     "data": {
      "text/html": [
       "<div>\n",
       "<style scoped>\n",
       "    .dataframe tbody tr th:only-of-type {\n",
       "        vertical-align: middle;\n",
       "    }\n",
       "\n",
       "    .dataframe tbody tr th {\n",
       "        vertical-align: top;\n",
       "    }\n",
       "\n",
       "    .dataframe thead th {\n",
       "        text-align: right;\n",
       "    }\n",
       "</style>\n",
       "<table border=\"1\" class=\"dataframe\">\n",
       "  <thead>\n",
       "    <tr style=\"text-align: right;\">\n",
       "      <th></th>\n",
       "      <th>Unnamed: 0</th>\n",
       "      <th>objectid</th>\n",
       "      <th>adresse_ir</th>\n",
       "      <th>ville</th>\n",
       "      <th>nom_statio</th>\n",
       "      <th>geom</th>\n",
       "    </tr>\n",
       "  </thead>\n",
       "  <tbody>\n",
       "    <tr>\n",
       "      <th>0</th>\n",
       "      <td>0</td>\n",
       "      <td>4</td>\n",
       "      <td>Avenue De La Division Leclerc</td>\n",
       "      <td>AUBERGENVILLE</td>\n",
       "      <td>AUBERGENVILLE - Avenue De La Division Leclerc</td>\n",
       "      <td>b\"\\x01\\x01\\x00\\x00\\x00L\\x83\\xc0\\x16\\x8e\\xb6\\xf...</td>\n",
       "    </tr>\n",
       "    <tr>\n",
       "      <th>1</th>\n",
       "      <td>1</td>\n",
       "      <td>5</td>\n",
       "      <td>Place François Mitterrand</td>\n",
       "      <td>AUBERGENVILLE</td>\n",
       "      <td>AUBERGENVILLE - Place François Mitterrand</td>\n",
       "      <td>b'\\x01\\x01\\x00\\x00\\x00P\\xe6\\xbb\\xa2\\xf8\\x93\\xf...</td>\n",
       "    </tr>\n",
       "    <tr>\n",
       "      <th>2</th>\n",
       "      <td>2</td>\n",
       "      <td>6</td>\n",
       "      <td>Place De La Mairie</td>\n",
       "      <td>AULNAY-SUR-MAULDRE</td>\n",
       "      <td>AULNAY-SUR-MAULDRE - Place De La Mairie</td>\n",
       "      <td>b'\\x01\\x01\\x00\\x00\\x00m\\x17\\xd1$\\xa0\\x80\\xfd?\\...</td>\n",
       "    </tr>\n",
       "    <tr>\n",
       "      <th>3</th>\n",
       "      <td>3</td>\n",
       "      <td>7</td>\n",
       "      <td>2 Rue De Charnelles</td>\n",
       "      <td>BOUAFLE</td>\n",
       "      <td>BOUAFLE - Rue De Charnelles</td>\n",
       "      <td>b'\\x01\\x01\\x00\\x00\\x00\\xc3@\\xe9\\xd5\\x93T\\xfe?\\...</td>\n",
       "    </tr>\n",
       "    <tr>\n",
       "      <th>4</th>\n",
       "      <td>4</td>\n",
       "      <td>8</td>\n",
       "      <td>Rue Du Béarn</td>\n",
       "      <td>BUCHELAY</td>\n",
       "      <td>BUCHELAY - Rue Du Béarn</td>\n",
       "      <td>b\"\\x01\\x01\\x00\\x00\\x00'\\xf2PN,\\xab\\xfa?k,j\\xb3...</td>\n",
       "    </tr>\n",
       "  </tbody>\n",
       "</table>\n",
       "</div>"
      ],
      "text/plain": [
       "   Unnamed: 0  objectid                     adresse_ir               ville  \\\n",
       "0           0         4  Avenue De La Division Leclerc       AUBERGENVILLE   \n",
       "1           1         5      Place François Mitterrand       AUBERGENVILLE   \n",
       "2           2         6             Place De La Mairie  AULNAY-SUR-MAULDRE   \n",
       "3           3         7            2 Rue De Charnelles             BOUAFLE   \n",
       "4           4         8                   Rue Du Béarn            BUCHELAY   \n",
       "\n",
       "                                      nom_statio  \\\n",
       "0  AUBERGENVILLE - Avenue De La Division Leclerc   \n",
       "1      AUBERGENVILLE - Place François Mitterrand   \n",
       "2        AULNAY-SUR-MAULDRE - Place De La Mairie   \n",
       "3                    BOUAFLE - Rue De Charnelles   \n",
       "4                        BUCHELAY - Rue Du Béarn   \n",
       "\n",
       "                                                geom  \n",
       "0  b\"\\x01\\x01\\x00\\x00\\x00L\\x83\\xc0\\x16\\x8e\\xb6\\xf...  \n",
       "1  b'\\x01\\x01\\x00\\x00\\x00P\\xe6\\xbb\\xa2\\xf8\\x93\\xf...  \n",
       "2  b'\\x01\\x01\\x00\\x00\\x00m\\x17\\xd1$\\xa0\\x80\\xfd?\\...  \n",
       "3  b'\\x01\\x01\\x00\\x00\\x00\\xc3@\\xe9\\xd5\\x93T\\xfe?\\...  \n",
       "4  b\"\\x01\\x01\\x00\\x00\\x00'\\xf2PN,\\xab\\xfa?k,j\\xb3...  "
      ]
     },
     "execution_count": 22,
     "metadata": {},
     "output_type": "execute_result"
    }
   ],
   "source": [
    "# Verification\n",
    "BUCKET = \"dlb-hackathon\"\n",
    "FILE_KEY_S3 = \"equipe-0/donnees_bornes_recharges.csv\"\n",
    "FILE_PATH_S3 = BUCKET + \"/\" + FILE_KEY_S3\n",
    "\n",
    "with fs.open(FILE_PATH_S3, mode=\"rb\") as file_in:\n",
    "    df = pd.read_csv(file_in)\n",
    "\n",
    "df.head()"
   ]
  },
  {
   "cell_type": "markdown",
   "id": "d9c4b5d3",
   "metadata": {},
   "source": [
    "## Listing des données spécifiques au Hackathon"
   ]
  },
  {
   "cell_type": "code",
   "execution_count": 26,
   "id": "abc86288",
   "metadata": {},
   "outputs": [],
   "source": [
    "import pandas as pd"
   ]
  },
  {
   "cell_type": "code",
   "execution_count": null,
   "id": "11af423c",
   "metadata": {},
   "outputs": [],
   "source": [
    "root_path = \"dlb-hackathon/datasets-diffusion/\"\n",
    "catalog = pd.DataFrame(fs.ls(\"dlb-hackathon/datasets-diffusion/\", refresh=True), columns=['file_path'])\n",
    "ddb.sql(f\"\"\"create or replace table tmp_paths as select '{root_path}' parent, file_path path from catalog\"\"\")\n",
    "\n",
    "for path in catalog[\"file_path\"] :\n",
    "    catalog = pd.DataFrame(fs.ls(path, refresh=True), columns=['file_path'])\n",
    "    ddb.sql(f\"\"\"insert into tmp_paths select '{path}' parent, file_path path from catalog\"\"\")\n"
   ]
  },
  {
   "cell_type": "code",
   "execution_count": 49,
   "id": "d7b4bb81",
   "metadata": {},
   "outputs": [],
   "source": [
    "ddb.sql(\"copy(select * from tmp_paths) to catalogue_hackathon.csv\")"
   ]
  },
  {
   "cell_type": "code",
   "execution_count": 40,
   "id": "15b3928a",
   "metadata": {},
   "outputs": [
    {
     "data": {
      "text/html": [
       "<div>\n",
       "<style scoped>\n",
       "    .dataframe tbody tr th:only-of-type {\n",
       "        vertical-align: middle;\n",
       "    }\n",
       "\n",
       "    .dataframe tbody tr th {\n",
       "        vertical-align: top;\n",
       "    }\n",
       "\n",
       "    .dataframe thead th {\n",
       "        text-align: right;\n",
       "    }\n",
       "</style>\n",
       "<table border=\"1\" class=\"dataframe\">\n",
       "  <thead>\n",
       "    <tr style=\"text-align: right;\">\n",
       "      <th></th>\n",
       "      <th>file_path</th>\n",
       "    </tr>\n",
       "  </thead>\n",
       "  <tbody>\n",
       "    <tr>\n",
       "      <th>0</th>\n",
       "      <td>dlb-hackathon/datasets-diffusion/.keep</td>\n",
       "    </tr>\n",
       "    <tr>\n",
       "      <th>1</th>\n",
       "      <td>dlb-hackathon/datasets-diffusion/ascenseurs_hi...</td>\n",
       "    </tr>\n",
       "    <tr>\n",
       "      <th>2</th>\n",
       "      <td>dlb-hackathon/datasets-diffusion/courses_trans...</td>\n",
       "    </tr>\n",
       "    <tr>\n",
       "      <th>3</th>\n",
       "      <td>dlb-hackathon/datasets-diffusion/documents_idf...</td>\n",
       "    </tr>\n",
       "    <tr>\n",
       "      <th>4</th>\n",
       "      <td>dlb-hackathon/datasets-diffusion/documents_nor...</td>\n",
       "    </tr>\n",
       "    <tr>\n",
       "      <th>5</th>\n",
       "      <td>dlb-hackathon/datasets-diffusion/documents_nor...</td>\n",
       "    </tr>\n",
       "    <tr>\n",
       "      <th>6</th>\n",
       "      <td>dlb-hackathon/datasets-diffusion/donnees_terri...</td>\n",
       "    </tr>\n",
       "    <tr>\n",
       "      <th>7</th>\n",
       "      <td>dlb-hackathon/datasets-diffusion/equipements_g...</td>\n",
       "    </tr>\n",
       "    <tr>\n",
       "      <th>8</th>\n",
       "      <td>dlb-hackathon/datasets-diffusion/historique_in...</td>\n",
       "    </tr>\n",
       "    <tr>\n",
       "      <th>9</th>\n",
       "      <td>dlb-hackathon/datasets-diffusion/recherches_it...</td>\n",
       "    </tr>\n",
       "    <tr>\n",
       "      <th>10</th>\n",
       "      <td>dlb-hackathon/datasets-diffusion/reclamations_...</td>\n",
       "    </tr>\n",
       "    <tr>\n",
       "      <th>11</th>\n",
       "      <td>dlb-hackathon/datasets-diffusion/validations_h...</td>\n",
       "    </tr>\n",
       "  </tbody>\n",
       "</table>\n",
       "</div>"
      ],
      "text/plain": [
       "                                            file_path\n",
       "0              dlb-hackathon/datasets-diffusion/.keep\n",
       "1   dlb-hackathon/datasets-diffusion/ascenseurs_hi...\n",
       "2   dlb-hackathon/datasets-diffusion/courses_trans...\n",
       "3   dlb-hackathon/datasets-diffusion/documents_idf...\n",
       "4   dlb-hackathon/datasets-diffusion/documents_nor...\n",
       "5   dlb-hackathon/datasets-diffusion/documents_nor...\n",
       "6   dlb-hackathon/datasets-diffusion/donnees_terri...\n",
       "7   dlb-hackathon/datasets-diffusion/equipements_g...\n",
       "8   dlb-hackathon/datasets-diffusion/historique_in...\n",
       "9   dlb-hackathon/datasets-diffusion/recherches_it...\n",
       "10  dlb-hackathon/datasets-diffusion/reclamations_...\n",
       "11  dlb-hackathon/datasets-diffusion/validations_h..."
      ]
     },
     "execution_count": 40,
     "metadata": {},
     "output_type": "execute_result"
    }
   ],
   "source": [
    "catalog"
   ]
  }
 ],
 "metadata": {
  "kernelspec": {
   "display_name": "base",
   "language": "python",
   "name": "python3"
  },
  "language_info": {
   "codemirror_mode": {
    "name": "ipython",
    "version": 3
   },
   "file_extension": ".py",
   "mimetype": "text/x-python",
   "name": "python",
   "nbconvert_exporter": "python",
   "pygments_lexer": "ipython3",
   "version": "3.12.6"
  }
 },
 "nbformat": 4,
 "nbformat_minor": 5
}
